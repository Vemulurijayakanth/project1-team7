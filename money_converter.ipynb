{
  "nbformat": 4,
  "nbformat_minor": 0,
  "metadata": {
    "colab": {
      "provenance": []
    },
    "kernelspec": {
      "name": "python3",
      "display_name": "Python 3"
    },
    "language_info": {
      "name": "python"
    }
  },
  "cells": [
    {
      "cell_type": "code",
      "source": [
        "import requests\n",
        "\n",
        "url = \"https://currency-conversion-and-exchange-rates.p.rapidapi.com/convert\"\n",
        "\n",
        "from_currency = input(\"Enter the currency to convert from : \").upper()\n",
        "to_currency = input(\"Enter the currency to convert to: \").upper()\n",
        "amount = float(input(\"Enter the amount to convert: \"))\n",
        "\n",
        "querystring = {\"from\": from_currency, \"to\": to_currency, \"amount\": str(amount)}\n",
        "\n",
        "headers = {\n",
        "    \"X-RapidAPI-Key\": \"a10fba5721mshcdcb3ad07de3d7cp15dbf5jsnc8285e9acb26\",\n",
        "    \"X-RapidAPI-Host\": \"currency-conversion-and-exchange-rates.p.rapidapi.com\"\n",
        "}\n",
        "\n",
        "response = requests.get(url, headers=headers, params=querystring)\n",
        "\n",
        "res=response.json()\n",
        "print(\"Converted Amount\",res['result'])\n"
      ],
      "metadata": {
        "id": "NbwApwlUPaV6",
        "colab": {
          "base_uri": "https://localhost:8080/"
        },
        "outputId": "84e1c4a7-da7f-4c38-d5d3-d69d3983687a"
      },
      "execution_count": 1,
      "outputs": [
        {
          "output_type": "stream",
          "name": "stdout",
          "text": [
            "Enter the currency to convert from : USD\n",
            "Enter the currency to convert to: INR\n",
            "Enter the amount to convert: 100\n",
            "Converted Amount 8291.4697\n"
          ]
        }
      ]
    },
    {
      "cell_type": "code",
      "source": [],
      "metadata": {
        "id": "CgIso4dEDisU"
      },
      "execution_count": null,
      "outputs": []
    },
    {
      "cell_type": "code",
      "source": [],
      "metadata": {
        "id": "sLHGaHinDVWo"
      },
      "execution_count": null,
      "outputs": []
    }
  ]
}